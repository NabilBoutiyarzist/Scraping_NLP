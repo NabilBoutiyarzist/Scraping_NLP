{
 "cells": [
  {
   "cell_type": "code",
   "execution_count": 1,
   "metadata": {},
   "outputs": [],
   "source": [
    "from ExtractUrlArticle import ExtractUrlArticle\n",
    "from Translator import Translator\n",
    "from newspaper import Article\n",
    "from googletrans import Translator as googleTranslator\n",
    "import requests \n",
    "import json\n",
    "import pandas"
   ]
  },
  {
   "cell_type": "markdown",
   "metadata": {},
   "source": [
    "### Extracteur d'url d'articles "
   ]
  },
  {
   "cell_type": "code",
   "execution_count": 2,
   "metadata": {},
   "outputs": [],
   "source": [
    "ExtractorArticle = ExtractUrlArticle()\n",
    "\n",
    "# Extraction des Url selon les Pays\n",
    "liste_fr=  pandas.DataFrame(ExtractorArticle.ExtractArticleFr()).url\n",
    "#liste_de = pandas.DataFrame(ExtractorArticle.ExtractArticleDe()).url\n",
    "liste_en = pandas.DataFrame(ExtractorArticle.ExtractArticleEn()).url\n",
    "\n",
    "liste_fa=  pandas.DataFrame(ExtractorArticle.ExtractArticleFa()).url\n",
    "liste_ar = pandas.DataFrame(ExtractorArticle.ExtractArticleAr()).url\n",
    "\n",
    "# Création d'un dictionnaire pour stocker les listes\n",
    "url_dict = {\n",
    "    'fr': liste_fr,\n",
    "    #'de': liste_de,\n",
    "    'en': liste_en,\n",
    "    'fa': liste_fa,\n",
    "    'ar': liste_ar\n",
    "}\n",
    "\n",
    "# Pour avoir un nombre équitable d'articles côté occident et moyen orient, nous réduisons la liste des média Anglais.\n",
    "# ==> 63 articles de chaque côté\n",
    "liste_en = liste_en[:39]"
   ]
  },
  {
   "cell_type": "markdown",
   "metadata": {},
   "source": [
    "### Récupération des texte et traduction des articles"
   ]
  },
  {
   "cell_type": "code",
   "execution_count": null,
   "metadata": {},
   "outputs": [],
   "source": [
    "#translator = Translator()\n",
    "tr = googleTranslator()\n",
    "\n",
    "textes_dict = dict() # Dictionnaire avec comme clé le pays et en valeur la liste des textes d'articles \n",
    "\n",
    "for pays in url_dict:\n",
    "    if pays!=\"fr\":\n",
    "        textes=list()\n",
    "        for url in url_dict[pays]:\n",
    "            article = Article(url)\n",
    "            try:\n",
    "                article.download()\n",
    "                article.parse()\n",
    "                textes.append(tr.translate(article.text,src=pays,dest='fr').text)\n",
    "            except Exception as e:\n",
    "                print(f\"Erreur lors du traitement de l'article : {e}\")\n",
    "                continue\n",
    "        textes_dict[pays] = textes\n",
    "        \n",
    "    else:\n",
    "        textes=list()\n",
    "        for url in url_dict[pays]:\n",
    "            article = Article(url)\n",
    "            try: \n",
    "                article.download()\n",
    "                article.parse()\n",
    "                textes.append(article.text)\n",
    "            except Exception as e:\n",
    "                continue\n",
    "        textes_dict[pays] = textes\n",
    "        \n",
    "        \n",
    "            "
   ]
  },
  {
   "cell_type": "markdown",
   "metadata": {},
   "source": [
    "### Création et ecriture de fichiers des articles"
   ]
  },
  {
   "cell_type": "code",
   "execution_count": 23,
   "metadata": {},
   "outputs": [],
   "source": [
    "# Ajout des articles anglais et français dans la liste d'articles occidentaux\n",
    "\n",
    "liste_occident = list()\n",
    "for i in textes_dict['fr']:\n",
    "    liste_occident.append(i)\n",
    "for i in textes_dict['en']:\n",
    "    liste_occident.append(i)\n",
    "    \n",
    "# Ajout des articles arabe et iranien  dans la liste d'articles du moyen orient \n",
    "liste_orient = list()\n",
    "for i in textes_dict['ar']:\n",
    "    liste_orient.append(i)\n",
    "for i in textes_dict['fa']:\n",
    "    liste_orient.append(i)"
   ]
  },
  {
   "cell_type": "code",
   "execution_count": 11,
   "metadata": {},
   "outputs": [],
   "source": [
    "# Création du fichier pour les médias occidentaux \n",
    "with open(\"Articles_Occidentaux.txt\", \"w\",encoding=\"utf-8\") as f:\n",
    "    for texte in liste_occident:\n",
    "        f.write(texte+\"\\n\")\n",
    "\n",
    "# Création du fichier pour les médias du Moyen Orient\n",
    "with open(\"Articles_Moyen_Orient.txt\", \"w\",encoding=\"utf-8\") as f:\n",
    "    for texte in liste_orient:\n",
    "        f.write(texte+\"\\n\")"
   ]
  }
 ],
 "metadata": {
  "kernelspec": {
   "display_name": "Python 3",
   "language": "python",
   "name": "python3"
  },
  "language_info": {
   "codemirror_mode": {
    "name": "ipython",
    "version": 3
   },
   "file_extension": ".py",
   "mimetype": "text/x-python",
   "name": "python",
   "nbconvert_exporter": "python",
   "pygments_lexer": "ipython3",
   "version": "3.10.11"
  }
 },
 "nbformat": 4,
 "nbformat_minor": 2
}
